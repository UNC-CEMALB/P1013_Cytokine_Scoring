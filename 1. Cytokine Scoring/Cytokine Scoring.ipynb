{
 "cells": [
  {
   "cell_type": "code",
   "execution_count": 1,
   "id": "afe5e3d3-04b1-4a43-9b17-ace254311150",
   "metadata": {},
   "outputs": [
    {
     "name": "stderr",
     "output_type": "stream",
     "text": [
      "── \u001b[1mAttaching core tidyverse packages\u001b[22m ──────────────────────── tidyverse 2.0.0 ──\n",
      "\u001b[32m✔\u001b[39m \u001b[34mdplyr    \u001b[39m 1.1.3     \u001b[32m✔\u001b[39m \u001b[34mreadr    \u001b[39m 2.1.4\n",
      "\u001b[32m✔\u001b[39m \u001b[34mforcats  \u001b[39m 1.0.0     \u001b[32m✔\u001b[39m \u001b[34mstringr  \u001b[39m 1.5.0\n",
      "\u001b[32m✔\u001b[39m \u001b[34mggplot2  \u001b[39m 3.4.3     \u001b[32m✔\u001b[39m \u001b[34mtibble   \u001b[39m 3.2.1\n",
      "\u001b[32m✔\u001b[39m \u001b[34mlubridate\u001b[39m 1.9.2     \u001b[32m✔\u001b[39m \u001b[34mtidyr    \u001b[39m 1.3.0\n",
      "\u001b[32m✔\u001b[39m \u001b[34mpurrr    \u001b[39m 1.0.2     \n",
      "── \u001b[1mConflicts\u001b[22m ────────────────────────────────────────── tidyverse_conflicts() ──\n",
      "\u001b[31m✖\u001b[39m \u001b[34mdplyr\u001b[39m::\u001b[32mfilter()\u001b[39m masks \u001b[34mstats\u001b[39m::filter()\n",
      "\u001b[31m✖\u001b[39m \u001b[34mdplyr\u001b[39m::\u001b[32mlag()\u001b[39m    masks \u001b[34mstats\u001b[39m::lag()\n",
      "\u001b[36mℹ\u001b[39m Use the conflicted package (\u001b[3m\u001b[34m<http://conflicted.r-lib.org/>\u001b[39m\u001b[23m) to force all conflicts to become errors\n"
     ]
    }
   ],
   "source": [
    "Output = ('/Users/alexis/Library/CloudStorage/OneDrive-UniversityofNorthCarolinaatChapelHill/CEMALB_DataAnalysisPM/Projects/P1012. Cytokine Scoring/P1013.3. Analyses/P1013.1. Cytokine Scorin/Output')\n",
    "cur_date = \"040324\"\n",
    "\n",
    "library(readxl)\n",
    "library(openxlsx)\n",
    "library(tidyverse)\n",
    "\n",
    "# reading in file\n",
    "cytokine_df = data.frame(read_excel(\"Input/Imputed_Cytokine_Data_040324.xlsx\", sheet = 2)) "
   ]
  },
  {
   "cell_type": "code",
   "execution_count": 2,
   "id": "d4982004-c8a6-47e3-a936-438603433027",
   "metadata": {},
   "outputs": [
    {
     "data": {
      "text/html": [
       "<table class=\"dataframe\">\n",
       "<caption>A data.frame: 6 × 9</caption>\n",
       "<thead>\n",
       "\t<tr><th></th><th scope=col>Subject_No</th><th scope=col>Sex</th><th scope=col>Subject_ID</th><th scope=col>Condensate</th><th scope=col>Burn_Condition</th><th scope=col>Dose</th><th scope=col>Smoking_Status</th><th scope=col>Cytokine</th><th scope=col>Norm_Cytokine_Conc</th></tr>\n",
       "\t<tr><th></th><th scope=col>&lt;dbl&gt;</th><th scope=col>&lt;chr&gt;</th><th scope=col>&lt;chr&gt;</th><th scope=col>&lt;chr&gt;</th><th scope=col>&lt;chr&gt;</th><th scope=col>&lt;chr&gt;</th><th scope=col>&lt;chr&gt;</th><th scope=col>&lt;chr&gt;</th><th scope=col>&lt;dbl&gt;</th></tr>\n",
       "</thead>\n",
       "<tbody>\n",
       "\t<tr><th scope=row>1</th><td>1</td><td>F</td><td>F_1</td><td>CB</td><td>F</td><td>H</td><td>NS</td><td>GMCSF</td><td>2.6478317</td></tr>\n",
       "\t<tr><th scope=row>2</th><td>1</td><td>F</td><td>F_1</td><td>CB</td><td>F</td><td>H</td><td>NS</td><td>GMCSF</td><td>0.9144314</td></tr>\n",
       "\t<tr><th scope=row>3</th><td>3</td><td>M</td><td>M_3</td><td>CB</td><td>F</td><td>H</td><td>NS</td><td>GMCSF</td><td>3.0242460</td></tr>\n",
       "\t<tr><th scope=row>4</th><td>4</td><td>F</td><td>F_4</td><td>CB</td><td>F</td><td>H</td><td>NS</td><td>GMCSF</td><td>0.2044317</td></tr>\n",
       "\t<tr><th scope=row>5</th><td>5</td><td>M</td><td>M_5</td><td>CB</td><td>F</td><td>H</td><td>NS</td><td>GMCSF</td><td>2.8059534</td></tr>\n",
       "\t<tr><th scope=row>6</th><td>6</td><td>M</td><td>M_6</td><td>CB</td><td>F</td><td>H</td><td>NS</td><td>GMCSF</td><td>0.5368575</td></tr>\n",
       "</tbody>\n",
       "</table>\n"
      ],
      "text/latex": [
       "A data.frame: 6 × 9\n",
       "\\begin{tabular}{r|lllllllll}\n",
       "  & Subject\\_No & Sex & Subject\\_ID & Condensate & Burn\\_Condition & Dose & Smoking\\_Status & Cytokine & Norm\\_Cytokine\\_Conc\\\\\n",
       "  & <dbl> & <chr> & <chr> & <chr> & <chr> & <chr> & <chr> & <chr> & <dbl>\\\\\n",
       "\\hline\n",
       "\t1 & 1 & F & F\\_1 & CB & F & H & NS & GMCSF & 2.6478317\\\\\n",
       "\t2 & 1 & F & F\\_1 & CB & F & H & NS & GMCSF & 0.9144314\\\\\n",
       "\t3 & 3 & M & M\\_3 & CB & F & H & NS & GMCSF & 3.0242460\\\\\n",
       "\t4 & 4 & F & F\\_4 & CB & F & H & NS & GMCSF & 0.2044317\\\\\n",
       "\t5 & 5 & M & M\\_5 & CB & F & H & NS & GMCSF & 2.8059534\\\\\n",
       "\t6 & 6 & M & M\\_6 & CB & F & H & NS & GMCSF & 0.5368575\\\\\n",
       "\\end{tabular}\n"
      ],
      "text/markdown": [
       "\n",
       "A data.frame: 6 × 9\n",
       "\n",
       "| <!--/--> | Subject_No &lt;dbl&gt; | Sex &lt;chr&gt; | Subject_ID &lt;chr&gt; | Condensate &lt;chr&gt; | Burn_Condition &lt;chr&gt; | Dose &lt;chr&gt; | Smoking_Status &lt;chr&gt; | Cytokine &lt;chr&gt; | Norm_Cytokine_Conc &lt;dbl&gt; |\n",
       "|---|---|---|---|---|---|---|---|---|---|\n",
       "| 1 | 1 | F | F_1 | CB | F | H | NS | GMCSF | 2.6478317 |\n",
       "| 2 | 1 | F | F_1 | CB | F | H | NS | GMCSF | 0.9144314 |\n",
       "| 3 | 3 | M | M_3 | CB | F | H | NS | GMCSF | 3.0242460 |\n",
       "| 4 | 4 | F | F_4 | CB | F | H | NS | GMCSF | 0.2044317 |\n",
       "| 5 | 5 | M | M_5 | CB | F | H | NS | GMCSF | 2.8059534 |\n",
       "| 6 | 6 | M | M_6 | CB | F | H | NS | GMCSF | 0.5368575 |\n",
       "\n"
      ],
      "text/plain": [
       "  Subject_No Sex Subject_ID Condensate Burn_Condition Dose Smoking_Status\n",
       "1 1          F   F_1        CB         F              H    NS            \n",
       "2 1          F   F_1        CB         F              H    NS            \n",
       "3 3          M   M_3        CB         F              H    NS            \n",
       "4 4          F   F_4        CB         F              H    NS            \n",
       "5 5          M   M_5        CB         F              H    NS            \n",
       "6 6          M   M_6        CB         F              H    NS            \n",
       "  Cytokine Norm_Cytokine_Conc\n",
       "1 GMCSF    2.6478317         \n",
       "2 GMCSF    0.9144314         \n",
       "3 GMCSF    3.0242460         \n",
       "4 GMCSF    0.2044317         \n",
       "5 GMCSF    2.8059534         \n",
       "6 GMCSF    0.5368575         "
      ]
     },
     "metadata": {},
     "output_type": "display_data"
    }
   ],
   "source": [
    "head(cytokine_df)"
   ]
  },
  {
   "cell_type": "markdown",
   "id": "9650fe30-812a-46c2-958a-0a8d0a6aba9a",
   "metadata": {},
   "source": [
    "ADD WORDS ABOUT THREE DIFFERENT METHODS\n",
    "\n",
    "# Expression Change Summation (ECS)\n",
    "\n",
    "sum of absolute FC, but what am I taking the fC between?\n",
    "\n",
    "https://github.com/UNC-CEMALB/P1005_Miscellaneous-Analyses/blob/main/P1005.2.%20Allostatic%20Load/P1005.2.3.1.%20Allostatic%20Load%20Calculation/Allostatic%20Load%20Calculation.ipynb"
   ]
  },
  {
   "cell_type": "code",
   "execution_count": null,
   "id": "68a0fe03-11fa-4a1d-8f4a-372b982c51c0",
   "metadata": {},
   "outputs": [],
   "source": []
  }
 ],
 "metadata": {
  "kernelspec": {
   "display_name": "R",
   "language": "R",
   "name": "ir"
  },
  "language_info": {
   "codemirror_mode": "r",
   "file_extension": ".r",
   "mimetype": "text/x-r-source",
   "name": "R",
   "pygments_lexer": "r",
   "version": "4.3.1"
  }
 },
 "nbformat": 4,
 "nbformat_minor": 5
}
